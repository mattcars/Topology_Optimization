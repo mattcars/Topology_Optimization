{
 "cells": [
  {
   "cell_type": "code",
   "execution_count": 1,
   "metadata": {},
   "outputs": [],
   "source": [
    "import numpy as np\n",
    "import matplotlib.pyplot as plt\n",
    "from FEA_opt import *\n",
    "from tqdm import*"
   ]
  },
  {
   "cell_type": "markdown",
   "metadata": {},
   "source": [
    "# Optimization Functions"
   ]
  },
  {
   "cell_type": "code",
   "execution_count": 2,
   "metadata": {},
   "outputs": [],
   "source": [
    "def get_x(x0, U, k0, a, elements, xmin, xmax, eta, lam, q):\n",
    "    # Vectors for updated x and element degrees of freedom\n",
    "    dof = np.zeros((elements.shape[1]*2), dtype=np.uint64)\n",
    "    x = np.zeros(x0.shape)\n",
    "    \n",
    "    # Find x(k+1) given the current lambda\n",
    "    for i, e in enumerate(elements):\n",
    "        # Degrees of freedom of the element\n",
    "        dof[0::2] = e*2\n",
    "        dof[1::2] = e*2+1\n",
    "        ue = U[dof]\n",
    "        \n",
    "        # Update x\n",
    "        if lam==0:\n",
    "            x[i] = xmax\n",
    "        else:\n",
    "            ke = q*x0[i]**(q-1) * k0[i]\n",
    "            x[i] = min(max(x0[i]*(ue.T @ ke @ ue/(lam*a[i]))**eta, xmin), xmax)\n",
    "    \n",
    "    return x\n",
    "\n",
    "\n",
    "def optimize(x0, U, k0, a, elements, Vmax, xmin, xmax, eta, prec = .01, q = 1):\n",
    "    \n",
    "    \n",
    "    # Low and High bounds for possible lambdas\n",
    "    lam_low = 0\n",
    "    lam_high = 1\n",
    "    \n",
    "    Vx = 0\n",
    "    while abs(Vmax - Vx) > prec:\n",
    "    \n",
    "        # Calculate bound\n",
    "        x_low = get_x(x0, U, k0, a, elements, xmin, xmax, eta, lam_low, q)\n",
    "        V_low = a @ x_low\n",
    "\n",
    "        x_high = get_x(x0, U, k0, a, elements, xmin, xmax, eta, lam_high, q)\n",
    "        V_high = a @ x_high\n",
    "\n",
    "\n",
    "        # Interpolate to estaimte lambda\n",
    "        lam = (lam_high-lam_low)/(V_high-V_low) * (Vmax-V_low) + lam_low\n",
    "        x = get_x(x0, U, k0, a, elements, xmin, xmax, eta, lam, q)\n",
    "        Vx = a @ x\n",
    "\n",
    "        # Reset limits\n",
    "        if Vx - Vmax < 0 :\n",
    "            lam_high = lam\n",
    "        else:\n",
    "            lam_low = lam\n",
    "    \n",
    "    return x"
   ]
  },
  {
   "cell_type": "markdown",
   "metadata": {},
   "source": [
    "# Problem Set Up"
   ]
  },
  {
   "cell_type": "code",
   "execution_count": 3,
   "metadata": {},
   "outputs": [],
   "source": [
    "'''GEOMETRY'''\n",
    "L = 15\n",
    "W = 5\n",
    "dx = 0.25\n",
    "\n",
    "# Geometry Discretization\n",
    "nodes, elements = gen_bar(L, W, dx)\n",
    "\n",
    "# get midpoint of each element\n",
    "xel=[]\n",
    "yel=[]\n",
    "for e in elements:\n",
    "    xe = nodes[e, :]\n",
    "    xel.append(np.mean(xe[:, 0]))\n",
    "    yel.append(np.mean(xe[:, 1]))\n",
    "xel = np.array(xel)\n",
    "yel = np.array(yel)\n",
    "\n",
    "# Thickness (x), area (a)\n",
    "x = np.ones((elements.shape[0],))\n",
    "a = np.ones((elements.shape[0], )) * dx**2\n",
    "\n",
    "xmin = 0.05\n",
    "xmax = 5\n",
    "\n",
    "Vmax = L*W*1\n",
    "\n",
    "# Material\n",
    "E = 1\n",
    "v = 0.3"
   ]
  },
  {
   "cell_type": "code",
   "execution_count": 4,
   "metadata": {},
   "outputs": [],
   "source": [
    "'''BOUNDARY CONDITINOS'''\n",
    "\n",
    "# Applied Point Forces\n",
    "P = [[0, -1/3], [0, -1/3], [0, -1/3]]\n",
    "Pn = [get_node(nodes, 0, W), get_node(nodes, 0+dx, W), get_node(nodes, 0+2*dx, W)]\n",
    "Pe = [np.where(elements==Pn[0])[0][0]]\n",
    "\n",
    "P = np.array(P)\n",
    "Pn = np.array(Pn)\n",
    "Pe = np.array(Pe)\n",
    "\n",
    "# Fixities\n",
    "#n0 = np.array([get_node(nodes, 0, 0)])\n",
    "n0 = get_node(nodes, 0, 'all')\n",
    "u0, i0 = assign_fixity(n0, 'x')\n",
    "n1 = np.array([get_node(nodes, L, 0)])\n",
    "u1, i1 = assign_fixity(n1, 'y')\n",
    "\n",
    "n0=np.concatenate((n0, n1))\n",
    "u0=np.concatenate((u0, i1))\n",
    "i0=np.concatenate((i0, i1))"
   ]
  },
  {
   "cell_type": "code",
   "execution_count": 5,
   "metadata": {},
   "outputs": [
    {
     "data": {
      "text/plain": [
       "Text(0.5, 1.0, 'Boundary')"
      ]
     },
     "execution_count": 5,
     "metadata": {},
     "output_type": "execute_result"
    },
    {
     "data": {
      "image/png": "[encoded data removed]",
      "text/plain": [
       "<Figure size 360x120 with 1 Axes>"
      ]
     },
     "metadata": {
      "needs_background": "light"
     },
     "output_type": "display_data"
    }
   ],
   "source": [
    "plt.figure(figsize=(L/3, W/3))\n",
    "nplot=plt.scatter(nodes[:, 0], nodes[:, 1], s=5)\n",
    "pplot=plt.scatter(nodes[n0, 0], nodes[n0, 1], c='k', s=50)\n",
    "fplot=plt.scatter(nodes[Pn, 0], nodes[Pn, 1], c='r', s=50)\n",
    "plt.legend([nplot, fplot, pplot], ['Nodes', 'Force', 'Fixed'])\n",
    "plt.title('Boundary')"
   ]
  },
  {
   "cell_type": "markdown",
   "metadata": {},
   "source": [
    "# Iterate through FEA"
   ]
  },
  {
   "cell_type": "code",
   "execution_count": 6,
   "metadata": {},
   "outputs": [],
   "source": [
    "'''FINITE ELEMENT ANALYSIS'''\n",
    "GP = gauss_points(5, Q4)\n",
    "k0 = []\n",
    "\n",
    "# stiffness matrix per element\n",
    "for i, e in enumerate(elements):\n",
    "    xe = nodes[e]\n",
    "    Ke = np.zeros((8, 8))\n",
    "    for gp in GP:\n",
    "        ke = stiffness(xe, Q4, gp[0], gp[1], gp[2], E=E, v = v)\n",
    "        Ke += ke\n",
    "        \n",
    "    k0.append(Ke)"
   ]
  },
  {
   "cell_type": "code",
   "execution_count": 7,
   "metadata": {},
   "outputs": [
    {
     "name": "stderr",
     "output_type": "stream",
     "text": [
      " 24%|██▍       | 12/50 [00:22<00:47,  1.25s/it]/Users/MVC/anaconda3/lib/python3.7/site-packages/ipykernel_launcher.py:42: RuntimeWarning: divide by zero encountered in double_scalars\n"
     ]
    },
    {
     "ename": "KeyboardInterrupt",
     "evalue": "",
     "output_type": "error",
     "traceback": [
      "\u001b[0;31m---------------------------------------------------------------------------\u001b[0m",
      "\u001b[0;31mKeyboardInterrupt\u001b[0m                         Traceback (most recent call last)",
      "\u001b[0;32m<ipython-input-7-d629417e4ba5>\u001b[0m in \u001b[0;36m<module>\u001b[0;34m\u001b[0m\n\u001b[1;32m     27\u001b[0m \u001b[0;34m\u001b[0m\u001b[0m\n\u001b[1;32m     28\u001b[0m     \u001b[0;31m# Find optimal x\u001b[0m\u001b[0;34m\u001b[0m\u001b[0;34m\u001b[0m\u001b[0;34m\u001b[0m\u001b[0m\n\u001b[0;32m---> 29\u001b[0;31m     \u001b[0mxk1\u001b[0m \u001b[0;34m=\u001b[0m \u001b[0moptimize\u001b[0m\u001b[0;34m(\u001b[0m\u001b[0mxk\u001b[0m\u001b[0;34m,\u001b[0m \u001b[0mU\u001b[0m\u001b[0;34m,\u001b[0m \u001b[0mk0\u001b[0m\u001b[0;34m,\u001b[0m \u001b[0ma\u001b[0m\u001b[0;34m,\u001b[0m \u001b[0melements\u001b[0m\u001b[0;34m,\u001b[0m \u001b[0mVmax\u001b[0m\u001b[0;34m,\u001b[0m \u001b[0mxmin\u001b[0m\u001b[0;34m,\u001b[0m \u001b[0mxmax\u001b[0m\u001b[0;34m,\u001b[0m \u001b[0meta\u001b[0m\u001b[0;34m,\u001b[0m \u001b[0mq\u001b[0m\u001b[0;34m=\u001b[0m\u001b[0mq\u001b[0m\u001b[0;34m)\u001b[0m\u001b[0;34m\u001b[0m\u001b[0;34m\u001b[0m\u001b[0m\n\u001b[0m\u001b[1;32m     30\u001b[0m \u001b[0;34m\u001b[0m\u001b[0m\n\u001b[1;32m     31\u001b[0m     \u001b[0;31m# Update\u001b[0m\u001b[0;34m\u001b[0m\u001b[0;34m\u001b[0m\u001b[0;34m\u001b[0m\u001b[0m\n",
      "\u001b[0;32m<ipython-input-2-9dc5913b5e4b>\u001b[0m in \u001b[0;36moptimize\u001b[0;34m(x0, U, k0, a, elements, Vmax, xmin, xmax, eta, prec, q)\u001b[0m\n\u001b[1;32m     35\u001b[0m         \u001b[0mV_low\u001b[0m \u001b[0;34m=\u001b[0m \u001b[0ma\u001b[0m \u001b[0;34m@\u001b[0m \u001b[0mx_low\u001b[0m\u001b[0;34m\u001b[0m\u001b[0;34m\u001b[0m\u001b[0m\n\u001b[1;32m     36\u001b[0m \u001b[0;34m\u001b[0m\u001b[0m\n\u001b[0;32m---> 37\u001b[0;31m         \u001b[0mx_high\u001b[0m \u001b[0;34m=\u001b[0m \u001b[0mget_x\u001b[0m\u001b[0;34m(\u001b[0m\u001b[0mx0\u001b[0m\u001b[0;34m,\u001b[0m \u001b[0mU\u001b[0m\u001b[0;34m,\u001b[0m \u001b[0mk0\u001b[0m\u001b[0;34m,\u001b[0m \u001b[0ma\u001b[0m\u001b[0;34m,\u001b[0m \u001b[0melements\u001b[0m\u001b[0;34m,\u001b[0m \u001b[0mxmin\u001b[0m\u001b[0;34m,\u001b[0m \u001b[0mxmax\u001b[0m\u001b[0;34m,\u001b[0m \u001b[0meta\u001b[0m\u001b[0;34m,\u001b[0m \u001b[0mlam_high\u001b[0m\u001b[0;34m,\u001b[0m \u001b[0mq\u001b[0m\u001b[0;34m)\u001b[0m\u001b[0;34m\u001b[0m\u001b[0;34m\u001b[0m\u001b[0m\n\u001b[0m\u001b[1;32m     38\u001b[0m         \u001b[0mV_high\u001b[0m \u001b[0;34m=\u001b[0m \u001b[0ma\u001b[0m \u001b[0;34m@\u001b[0m \u001b[0mx_high\u001b[0m\u001b[0;34m\u001b[0m\u001b[0;34m\u001b[0m\u001b[0m\n\u001b[1;32m     39\u001b[0m \u001b[0;34m\u001b[0m\u001b[0m\n",
      "\u001b[0;32m<ipython-input-2-9dc5913b5e4b>\u001b[0m in \u001b[0;36mget_x\u001b[0;34m(x0, U, k0, a, elements, xmin, xmax, eta, lam, q)\u001b[0m\n\u001b[1;32m      7\u001b[0m     \u001b[0;32mfor\u001b[0m \u001b[0mi\u001b[0m\u001b[0;34m,\u001b[0m \u001b[0me\u001b[0m \u001b[0;32min\u001b[0m \u001b[0menumerate\u001b[0m\u001b[0;34m(\u001b[0m\u001b[0melements\u001b[0m\u001b[0;34m)\u001b[0m\u001b[0;34m:\u001b[0m\u001b[0;34m\u001b[0m\u001b[0;34m\u001b[0m\u001b[0m\n\u001b[1;32m      8\u001b[0m         \u001b[0;31m# Degrees of freedom of the element\u001b[0m\u001b[0;34m\u001b[0m\u001b[0;34m\u001b[0m\u001b[0;34m\u001b[0m\u001b[0m\n\u001b[0;32m----> 9\u001b[0;31m         \u001b[0mdof\u001b[0m\u001b[0;34m[\u001b[0m\u001b[0;36m0\u001b[0m\u001b[0;34m:\u001b[0m\u001b[0;34m:\u001b[0m\u001b[0;36m2\u001b[0m\u001b[0;34m]\u001b[0m \u001b[0;34m=\u001b[0m \u001b[0me\u001b[0m\u001b[0;34m*\u001b[0m\u001b[0;36m2\u001b[0m\u001b[0;34m\u001b[0m\u001b[0;34m\u001b[0m\u001b[0m\n\u001b[0m\u001b[1;32m     10\u001b[0m         \u001b[0mdof\u001b[0m\u001b[0;34m[\u001b[0m\u001b[0;36m1\u001b[0m\u001b[0;34m:\u001b[0m\u001b[0;34m:\u001b[0m\u001b[0;36m2\u001b[0m\u001b[0;34m]\u001b[0m \u001b[0;34m=\u001b[0m \u001b[0me\u001b[0m\u001b[0;34m*\u001b[0m\u001b[0;36m2\u001b[0m\u001b[0;34m+\u001b[0m\u001b[0;36m1\u001b[0m\u001b[0;34m\u001b[0m\u001b[0;34m\u001b[0m\u001b[0m\n\u001b[1;32m     11\u001b[0m         \u001b[0mue\u001b[0m \u001b[0;34m=\u001b[0m \u001b[0mU\u001b[0m\u001b[0;34m[\u001b[0m\u001b[0mdof\u001b[0m\u001b[0;34m]\u001b[0m\u001b[0;34m\u001b[0m\u001b[0;34m\u001b[0m\u001b[0m\n",
      "\u001b[0;31mKeyboardInterrupt\u001b[0m: "
     ]
    }
   ],
   "source": [
    "# optimization parameters\n",
    "iterations = 50\n",
    "alpha = 1\n",
    "eta = 1/(1+alpha)\n",
    "q = 4\n",
    "\n",
    "\n",
    "# xk = iteration of thicknesses\n",
    "xk = x\n",
    "for iters in tqdm(range(iterations)):\n",
    "    \n",
    "    # Update stiffness w/ current thicknesses\n",
    "    ke = []\n",
    "    for i in range(elements.shape[0]):\n",
    "        ke.append(xk[i]**q*k0[i])\n",
    "    \n",
    "    \n",
    "    # Solve FEA problem\n",
    "    K, F = assemble(x, nodes, elements, Q4, GP, P, Pn, Pe, ke=ke)\n",
    "    U, R = solve_system(K, F, u0, i0)\n",
    "\n",
    "    # Compliance\n",
    "    C = F.T @ U\n",
    "\n",
    "    # Volume\n",
    "    V = x.T @ a\n",
    "    \n",
    "    # Find optimal x \n",
    "    xk1 = optimize(xk, U, k0, a, elements, Vmax, xmin, xmax, eta, q=q)\n",
    "    \n",
    "    # Update\n",
    "    xk = xk1"
   ]
  },
  {
   "cell_type": "markdown",
   "metadata": {},
   "source": [
    "# Plot Results"
   ]
  },
  {
   "cell_type": "code",
   "execution_count": null,
   "metadata": {},
   "outputs": [],
   "source": [
    "XEL = xel.reshape((int(W/dx), int(L/dx)))\n",
    "YEL = yel.reshape((int(W/dx), int(L/dx)))\n",
    "XK = xk.reshape((int(W/dx), int(L/dx)))\n",
    "\n",
    "fig, (ax0, ax1) = plt.subplots(1, 2, figsize = ((2*L/3, W/3)))\n",
    "\n",
    "\n",
    "nplot=ax0.scatter(nodes[:, 0], nodes[:, 1], s=5)\n",
    "fplot=ax0.scatter(nodes[Pn, 0], nodes[Pn, 1], c='r', s=50)\n",
    "pplot=ax0.scatter(nodes[n0, 0], nodes[n0, 1], c='k', s=50)\n",
    "ax0.legend([nplot, fplot, pplot], ['Nodes', 'Force', 'Fixed'])\n",
    "ax0.set_title('Problem Geometry')\n",
    "\n",
    "topplot=ax1.pcolormesh(XEL, YEL, XK, cmap='Blues')\n",
    "ax1.set_title('Optimized Thickness\\n'+'q = '+str(q))\n",
    "fig.colorbar(topplot)"
   ]
  },
  {
   "cell_type": "code",
   "execution_count": null,
   "metadata": {},
   "outputs": [],
   "source": []
  },
  {
   "cell_type": "code",
   "execution_count": null,
   "metadata": {},
   "outputs": [],
   "source": []
  },
  {
   "cell_type": "code",
   "execution_count": null,
   "metadata": {},
   "outputs": [],
   "source": []
  },
  {
   "cell_type": "code",
   "execution_count": null,
   "metadata": {},
   "outputs": [],
   "source": []
  },
  {
   "cell_type": "code",
   "execution_count": null,
   "metadata": {},
   "outputs": [],
   "source": []
  },
  {
   "cell_type": "code",
   "execution_count": null,
   "metadata": {},
   "outputs": [],
   "source": []
  },
  {
   "cell_type": "code",
   "execution_count": null,
   "metadata": {},
   "outputs": [],
   "source": []
  }
 ],
 "metadata": {
  "kernelspec": {
   "display_name": "Python 3",
   "language": "python",
   "name": "python3"
  },
  "language_info": {
   "codemirror_mode": {
    "name": "ipython",
    "version": 3
   },
   "file_extension": ".py",
   "mimetype": "text/x-python",
   "name": "python",
   "nbconvert_exporter": "python",
   "pygments_lexer": "ipython3",
   "version": "3.7.3"
  }
 },
 "nbformat": 4,
 "nbformat_minor": 2
}
